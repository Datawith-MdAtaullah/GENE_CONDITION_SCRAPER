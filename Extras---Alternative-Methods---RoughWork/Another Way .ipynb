{
 "cells": [
  {
   "cell_type": "code",
   "execution_count": 1,
   "id": "c8097f91-1100-46ea-be10-e4fe8cbf2c5b",
   "metadata": {},
   "outputs": [
    {
     "name": "stdout",
     "output_type": "stream",
     "text": [
      "Doneeeeeee Brother!!!!!!!!\n"
     ]
    }
   ],
   "source": [
    "from bs4 import BeautifulSoup\n",
    "import requests\n",
    "from fake_useragent import UserAgent\n",
    "import json\n",
    "\n",
    "ua = UserAgent()\n",
    "my_headers = {\"User-Agent\": ua.random}\n",
    "\n",
    "url = 'https://medlineplus.gov/genetics/gene/'\n",
    "\n",
    "page = requests.get(url, headers=my_headers)\n",
    "soup = BeautifulSoup(page.text, 'html')\n",
    "\n",
    "A = soup.find('ul', class_='withident breaklist')\n",
    "links = A.find_all('a')\n",
    "#print(links)\n",
    "        #[<a href=\"https://medlineplus.gov/genetics/gene/aaas/\">AAAS</a>,\n",
    "        #<a href=\"https://medlineplus.gov/genetics/gene/aass/\">AASS</a>,\n",
    "        #<a href=\"https://medlineplus.gov/genetics/gene/abat/\">ABAT</a>,....]\n",
    "\n",
    "all_data = []\n",
    "\n",
    "for i in links[:5]: #First 5 element ke liye chalega loop -> # link pr loop chalega jo contain krta hai [<a href=\"https://medlineplus.gov/genetics/gene/aaas/\">AAAS</a>,....] aisa kuch\n",
    "    gene_name = i.text.strip()    # output : ['AAAS', 'AASS', 'ABAT', 'ABCA1', 'ABCA3',....]\n",
    "    link = i['href']              # output : [['https://medlineplus.gov/genetics/gene/aaas/', 'https://medlineplus.gov/genetics/gene/aass/',...]\n",
    "\n",
    "    page2 = requests.get(link, headers=my_headers)\n",
    "    soup = BeautifulSoup(page2.text, 'html')\n",
    "    cond = soup.find_all('div', class_='mp-content mp-exp exp-full')\n",
    "    conditions = []\n",
    "    for j in cond:\n",
    "        z = j.find(\"h3\")\n",
    "        if z:\n",
    "            z_text = z.text.strip()\n",
    "            if z_text:\n",
    "                conditions.append(z_text)\n",
    "\n",
    "    all_data.append({\n",
    "        \"gene\": gene_name,\n",
    "        \"conditions\": conditions\n",
    "    })\n",
    "\n",
    "# Save  this into JSON file \n",
    "\n",
    "with open(\"another_way_output.json\", \"w\", encoding=\"utf-8\") as f:\n",
    "    json.dump(all_data, f, ensure_ascii=False, indent=2)\n",
    "\n",
    "print(\"Doneeeeeee Brother!!!!!!!!\")"
   ]
  },
  {
   "cell_type": "code",
   "execution_count": null,
   "id": "02339092-2a8f-4cd6-a15d-2db961af559b",
   "metadata": {},
   "outputs": [],
   "source": []
  }
 ],
 "metadata": {
  "kernelspec": {
   "display_name": "Python 3 (ipykernel)",
   "language": "python",
   "name": "python3"
  },
  "language_info": {
   "codemirror_mode": {
    "name": "ipython",
    "version": 3
   },
   "file_extension": ".py",
   "mimetype": "text/x-python",
   "name": "python",
   "nbconvert_exporter": "python",
   "pygments_lexer": "ipython3",
   "version": "3.12.4"
  }
 },
 "nbformat": 4,
 "nbformat_minor": 5
}
