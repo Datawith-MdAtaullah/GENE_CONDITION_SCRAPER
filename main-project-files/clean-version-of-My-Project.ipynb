{
 "cells": [
  {
   "cell_type": "code",
   "execution_count": 12,
   "id": "7376a10e-379e-4c5c-b7b0-224bcb832ccb",
   "metadata": {},
   "outputs": [
    {
     "name": "stdout",
     "output_type": "stream",
     "text": [
      "AAAS https://medlineplus.gov/genetics/gene/aaas/\n",
      "AASS https://medlineplus.gov/genetics/gene/aass/\n",
      "ABAT https://medlineplus.gov/genetics/gene/abat/\n",
      "ABCA1 https://medlineplus.gov/genetics/gene/abca1/\n",
      "ABCA3 https://medlineplus.gov/genetics/gene/abca3/\n",
      "['AAAS', 'AASS', 'ABAT', 'ABCA1', 'ABCA3']\n",
      "['Triple A syndrome']\n",
      "['Hyperlysinemia']\n",
      "['GABA-transaminase deficiency']\n",
      "['Familial HDL deficiency', 'Tangier disease']\n",
      "['Surfactant dysfunction', 'Idiopathic pulmonary fibrosis']\n"
     ]
    }
   ],
   "source": [
    "\n",
    "from bs4 import BeautifulSoup\n",
    "import requests\n",
    "from fake_useragent import UserAgent\n",
    "import json\n",
    "\n",
    "ua = UserAgent()\n",
    "my_headers = {\"User-Agent\": ua.random}\n",
    "\n",
    "url = 'https://medlineplus.gov/genetics/gene/'\n",
    "\n",
    "page = requests.get(url,headers=my_headers)\n",
    "\n",
    "soup = BeautifulSoup(page.text, 'html')\n",
    "\n",
    "A = soup.find('ul', class_='withident breaklist')\n",
    "\n",
    "links = A.find_all('a')\n",
    "\n",
    "for i in links[:5]:\n",
    "    print(i.text.strip(), i['href'])\n",
    "\n",
    "gene=[i.text.strip() for i in links[:5]]\n",
    "print(gene)\n",
    "\n",
    "x=[]\n",
    "for i in links:\n",
    "     y=  (i['href'])\n",
    "     if y:\n",
    "         x.append(y)\n",
    "         \n",
    "for i in x[:5]:\n",
    "    page2 = requests.get(i)\n",
    "    soup = BeautifulSoup(page2.text,'html')\n",
    "    cond = soup.find_all('div', class_='mp-content mp-exp exp-full')\n",
    "    conditions = []\n",
    "    for j in cond:\n",
    "        z = j.find(\"h3\")\n",
    "        if z:\n",
    "            z_text = z.text.strip()\n",
    "            if z_text:\n",
    "                conditions.append(z_text)\n",
    "    print(conditions)"
   ]
  },
  {
   "cell_type": "code",
   "execution_count": 13,
   "id": "d93c4943-42c1-4079-8c0b-7fac28372c93",
   "metadata": {},
   "outputs": [],
   "source": [
    "gene_condition = []\n",
    "for g,i in zip(gene,x[:5]):\n",
    "    page2 = requests.get(i)\n",
    "    soup = BeautifulSoup(page2.text,'html')\n",
    "    cond = soup.find_all('div', class_='mp-content mp-exp exp-full')\n",
    "    conditions = []\n",
    "    for j in cond:\n",
    "        z = j.find(\"h3\")\n",
    "        if z:\n",
    "            z_text = z.text.strip()\n",
    "            if z_text:\n",
    "                conditions.append(z_text)\n",
    "    gene_condition.append({\n",
    "        \"gene\": g,\n",
    "        \"conditions\": conditions\n",
    "    })"
   ]
  },
  {
   "cell_type": "code",
   "execution_count": 14,
   "id": "098c4fa7-1c27-426f-a856-1de4e61c40a5",
   "metadata": {},
   "outputs": [
    {
     "name": "stdout",
     "output_type": "stream",
     "text": [
      "[{'gene': 'AAAS', 'conditions': ['Triple A syndrome']}, {'gene': 'AASS', 'conditions': ['Hyperlysinemia']}, {'gene': 'ABAT', 'conditions': ['GABA-transaminase deficiency']}, {'gene': 'ABCA1', 'conditions': ['Familial HDL deficiency', 'Tangier disease']}, {'gene': 'ABCA3', 'conditions': ['Surfactant dysfunction', 'Idiopathic pulmonary fibrosis']}]\n"
     ]
    }
   ],
   "source": [
    "print(gene_condition)"
   ]
  },
  {
   "cell_type": "code",
   "execution_count": 15,
   "id": "11dfb864-1b74-45cc-9e25-77c110a3a1b7",
   "metadata": {},
   "outputs": [
    {
     "name": "stdout",
     "output_type": "stream",
     "text": [
      "Done Brother!!!!!!!!!\n"
     ]
    }
   ],
   "source": [
    "with open(\"output_of_project.json\", \"w\", encoding=\"utf-8\") as f:\n",
    "    json.dump(gene_condition, f, ensure_ascii=False, indent=2)\n",
    "\n",
    "print(\"Done Brother!!!!!!!!!\")"
   ]
  },
  {
   "cell_type": "code",
   "execution_count": null,
   "id": "71760cc3-d816-44e1-a1a3-1630febe3f30",
   "metadata": {},
   "outputs": [],
   "source": []
  }
 ],
 "metadata": {
  "kernelspec": {
   "display_name": "Python 3 (ipykernel)",
   "language": "python",
   "name": "python3"
  },
  "language_info": {
   "codemirror_mode": {
    "name": "ipython",
    "version": 3
   },
   "file_extension": ".py",
   "mimetype": "text/x-python",
   "name": "python",
   "nbconvert_exporter": "python",
   "pygments_lexer": "ipython3",
   "version": "3.12.4"
  }
 },
 "nbformat": 4,
 "nbformat_minor": 5
}
